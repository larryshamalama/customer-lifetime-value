{
 "cells": [
  {
   "cell_type": "code",
   "execution_count": 1,
   "id": "4681ed56",
   "metadata": {},
   "outputs": [],
   "source": [
    "import numpy as np\n",
    "\n",
    "rng = np.random.RandomState(seed=34)\n",
    "T = 10\n",
    "T0 = 0\n",
    "p = 0.3\n",
    "rho = 1\n",
    "\n",
    "size = (5, 3)"
   ]
  },
  {
   "cell_type": "code",
   "execution_count": 79,
   "id": "0f9779a4",
   "metadata": {},
   "outputs": [],
   "source": [
    "t_max = 0\n",
    "\n",
    "while True:\n",
    "    if rng.binomial(1, p):\n",
    "        break\n",
    "\n",
    "    t = rng.exponential(scale=2.)\n",
    "    \n",
    "    if t_max + t > T:\n",
    "        break\n",
    "    else:\n",
    "        t_max += t"
   ]
  },
  {
   "cell_type": "code",
   "execution_count": 80,
   "id": "554e6fc9",
   "metadata": {},
   "outputs": [],
   "source": [
    "def rng_fn(rng, rho, p, T, T0, size):\n",
    "    n = rng.poisson(lam=lam*(T - T0), size=size)\n",
    "    \n",
    "    # p(T1, ..., Tn) ~ Uniform"
   ]
  },
  {
   "cell_type": "code",
   "execution_count": 112,
   "id": "bfb70fe9",
   "metadata": {},
   "outputs": [],
   "source": [
    "n = rng.poisson(lam=rho*(T - T0))\n",
    "obs_times = np.sort(rng.uniform(high=5, size=(n,) + size))\n",
    "\n",
    "indices = rng.geometric(p=p, size=size)\n",
    "indices = np.where(\n",
    "    indices > n,\n",
    "    n,\n",
    "    indices,\n",
    ")"
   ]
  },
  {
   "cell_type": "code",
   "execution_count": 146,
   "id": "901b210d",
   "metadata": {},
   "outputs": [],
   "source": [
    "def simulate_history(lam, p, T, T0):\n",
    "    t_x = 0\n",
    "    x = 0\n",
    "\n",
    "    time_period = T - T0\n",
    "\n",
    "    while True:\n",
    "        wait = rng.exponential(lam)\n",
    "\n",
    "        if t_x + wait < T - T0:\n",
    "            t_x += wait\n",
    "            x += 1\n",
    "        else:\n",
    "            break\n",
    "\n",
    "    return x"
   ]
  },
  {
   "cell_type": "code",
   "execution_count": 150,
   "id": "8a447c90",
   "metadata": {},
   "outputs": [
    {
     "data": {
      "text/plain": [
       "5"
      ]
     },
     "execution_count": 150,
     "metadata": {},
     "output_type": "execute_result"
    }
   ],
   "source": [
    "simulate_history(rho, p, T, T0)"
   ]
  },
  {
   "cell_type": "code",
   "execution_count": 143,
   "id": "ea45f3c6",
   "metadata": {},
   "outputs": [],
   "source": [
    "vec_sim = np.vectorize(lambda x: simulate_history(rho, p, T, T0))"
   ]
  },
  {
   "cell_type": "code",
   "execution_count": 145,
   "id": "82d2d218",
   "metadata": {},
   "outputs": [
    {
     "data": {
      "text/plain": [
       "(array([8.24258932, 3.46074567]), array([3, 3]))"
      ]
     },
     "execution_count": 145,
     "metadata": {},
     "output_type": "execute_result"
    }
   ],
   "source": [
    "vec_sim(np.array([3, 4]))"
   ]
  },
  {
   "cell_type": "code",
   "execution_count": 200,
   "id": "cc672ff5",
   "metadata": {},
   "outputs": [
    {
     "data": {
      "text/plain": [
       "(10, 3)"
      ]
     },
     "execution_count": 200,
     "metadata": {},
     "output_type": "execute_result"
    }
   ],
   "source": [
    "n = rng.poisson(lam=rho*(T - T0))\n",
    "r = min(rng.geometric(p=p), n)\n",
    "# no need to generate arrival times\n",
    "\n",
    "n, r"
   ]
  },
  {
   "cell_type": "markdown",
   "id": "504b2edb",
   "metadata": {},
   "source": [
    "### Simulation Method 2"
   ]
  },
  {
   "cell_type": "code",
   "execution_count": 2,
   "id": "185609ff",
   "metadata": {},
   "outputs": [
    {
     "data": {
      "text/plain": [
       "array([0.13890848, 1.89965306, 2.53086451, 4.26574382, 9.36158536])"
      ]
     },
     "execution_count": 2,
     "metadata": {},
     "output_type": "execute_result"
    }
   ],
   "source": [
    "n = rng.poisson(lam=rho*(T - T0))\n",
    "times = np.sort(rng.uniform(low=T0, high=T, size=n))\n",
    "times"
   ]
  },
  {
   "cell_type": "code",
   "execution_count": null,
   "id": "a369f714",
   "metadata": {},
   "outputs": [],
   "source": []
  }
 ],
 "metadata": {
  "kernelspec": {
   "display_name": "pymc-dev-py39",
   "language": "python",
   "name": "pymc-dev-py39"
  },
  "language_info": {
   "codemirror_mode": {
    "name": "ipython",
    "version": 3
   },
   "file_extension": ".py",
   "mimetype": "text/x-python",
   "name": "python",
   "nbconvert_exporter": "python",
   "pygments_lexer": "ipython3",
   "version": "3.9.10"
  }
 },
 "nbformat": 4,
 "nbformat_minor": 5
}
