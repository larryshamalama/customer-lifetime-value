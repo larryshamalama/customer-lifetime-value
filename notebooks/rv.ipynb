{
 "cells": [
  {
   "cell_type": "code",
   "execution_count": 1,
   "id": "14fcee1b",
   "metadata": {},
   "outputs": [],
   "source": [
    "import aesara.tensor as at\n",
    "import numpy as np\n",
    "import pandas as pd\n",
    "\n",
    "from aesara.tensor import TensorVariable\n",
    "from aesara.tensor.random.op import RandomVariable\n",
    "\n",
    "import pymc as pm\n",
    "from pymc.distributions.continuous import PositiveContinuous\n",
    "from pymc.distributions.dist_math import check_parameters\n",
    "\n",
    "import matplotlib.pyplot as plt\n",
    "import arviz as az"
   ]
  },
  {
   "cell_type": "code",
   "execution_count": 2,
   "id": "003b21c4",
   "metadata": {},
   "outputs": [],
   "source": [
    "rng = np.random.RandomState(seed=34)\n",
    "T = 10\n",
    "T0 = 0\n",
    "p = 0.2\n",
    "lam = 0.5\n",
    "\n",
    "size = (5, 3)"
   ]
  },
  {
   "cell_type": "code",
   "execution_count": 3,
   "id": "6097258b",
   "metadata": {},
   "outputs": [],
   "source": [
    "class CustomerLifetimeValueRV(RandomVariable):\n",
    "    name = \"customer_lifetime_value\"\n",
    "    ndim_supp = 1\n",
    "    ndims_params = [0, 0, 0, 0]\n",
    "    dtype = \"floatX\"\n",
    "    _print_name = (\"CustomerLifetimeValue\", \"\\\\operatorname{CustomerLifetimeValue}\")\n",
    "\n",
    "    def make_node(self, rng, size, dtype, lam, p, T, T0):\n",
    "\n",
    "        T = at.as_tensor_variable(T)\n",
    "        T0 = at.as_tensor_variable(T0)\n",
    "\n",
    "        # T0 and T cannot be random variables\n",
    "        if T.owner is not None:\n",
    "            raise ValueError(\"T must be a scalar, i.e. observed, and not random quantities.\")\n",
    "\n",
    "        if T0.owner is not None:\n",
    "            raise ValueError(\"T0 must be a scalar, i.e. observed, and not random quantities.\")\n",
    "\n",
    "        return super().make_node(rng, size, dtype, lam, p, T, T0)\n",
    "\n",
    "    def __call__(self, lam, p, T, T0=0, size=None, **kwargs):\n",
    "        return super().__call__(lam, p, T, T0, size=size, **kwargs)\n",
    "    \n",
    "    def _infer_shape(self, size, dist_params, param_shapes=None):\n",
    "        size = tuple(size)\n",
    "        \n",
    "        return size + (2,)\n",
    "\n",
    "    @classmethod\n",
    "    def rng_fn(cls, rng, lam, p, T, T0, size) -> np.array:\n",
    "\n",
    "        if size is None:\n",
    "            size = ()\n",
    "        elif isinstance(size, int):\n",
    "            size = (size,)\n",
    "        else:\n",
    "            size = tuple(size)\n",
    "        \n",
    "        # to do\n",
    "        lam = np.array(lam)\n",
    "        p = np.array(p)\n",
    "        T = np.array(T)\n",
    "        T0 = np.array(T0)\n",
    "        \n",
    "        output = np.empty(shape=size + (2,))\n",
    "        \n",
    "        def sim_data():\n",
    "            t = 0\n",
    "            n = 0\n",
    "            \n",
    "            while True:\n",
    "                wait = rng.exponential(scale=1/lam)\n",
    "                dropout = rng.binomial(n=1, p=p)\n",
    "                \n",
    "                if t + wait > T:\n",
    "                    break\n",
    "                else:\n",
    "                    t += wait\n",
    "                    n += 1\n",
    "                    \n",
    "                    if dropout == 1:\n",
    "                        break\n",
    "            \n",
    "            return np.array(\n",
    "                [\n",
    "                    t,\n",
    "                    n,\n",
    "                ],\n",
    "            )\n",
    "        \n",
    "        for index in np.ndindex(*size):\n",
    "            output[index] = sim_data()\n",
    "        \n",
    "        return output\n",
    "\n",
    "\n",
    "customer_lifetime_value = CustomerLifetimeValueRV()\n",
    "            \n",
    "            \n",
    "class CustomerLifetimeValue(PositiveContinuous):\n",
    "    rv_op = customer_lifetime_value\n",
    "    \n",
    "    @classmethod\n",
    "    def dist(cls, lam, p, T, T0, **kwargs):\n",
    "        return super().dist([lam, p, T, T0], **kwargs)\n",
    "    \n",
    "    def get_moment(rv, size, lam, p, T, T0):\n",
    "        if size is None:\n",
    "            size = (2,)\n",
    "        elif isinstance(size, int):\n",
    "            size = (size,) + (2,)\n",
    "        else:\n",
    "            size = tuple(size) + (2,)\n",
    "        \n",
    "        return at.full(size, at.as_tensor_variable([lam, p]))\n",
    "    \n",
    "    def logp(value, lam, p, T, T0):\n",
    "        t_x = value[..., 0]\n",
    "        x = value[..., 1]\n",
    "        \n",
    "        zero_observations = at.eq(x, 0)\n",
    "        \n",
    "        A = x*at.log(1 - p) + x*at.log(lam) - lam*T\n",
    "        B = at.log(p) + (x - 1)*at.log(1 - p) + x*at.log(lam) - lam*t_x\n",
    "        \n",
    "        logp = at.switch(\n",
    "            zero_observations,\n",
    "            A,\n",
    "            at.logaddexp(A, B),\n",
    "        )\n",
    "        \n",
    "        return check_parameters(\n",
    "            logp,\n",
    "            lam > 0,\n",
    "            0 <= p,\n",
    "            p <= 1,\n",
    "            at.all(T0 < T),\n",
    "            msg=\"lam > 0, 0 <= p <= 1, T0 < T\",\n",
    "        )"
   ]
  },
  {
   "cell_type": "code",
   "execution_count": 4,
   "id": "2b2d3684",
   "metadata": {},
   "outputs": [],
   "source": [
    "simulated_data = customer_lifetime_value.rng_fn(rng, lam, p, T, T0, size=[1000,])"
   ]
  },
  {
   "cell_type": "code",
   "execution_count": 5,
   "id": "695159dc",
   "metadata": {},
   "outputs": [
    {
     "name": "stderr",
     "output_type": "stream",
     "text": [
      "Sequential sampling (1 chains in 1 job)\n",
      "NUTS: [λ, π]\n"
     ]
    },
    {
     "data": {
      "text/html": [
       "\n",
       "<style>\n",
       "    /* Turns off some styling */\n",
       "    progress {\n",
       "        /* gets rid of default border in Firefox and Opera. */\n",
       "        border: none;\n",
       "        /* Needs to be in here for Safari polyfill so background images work as expected. */\n",
       "        background-size: auto;\n",
       "    }\n",
       "    .progress-bar-interrupted, .progress-bar-interrupted::-webkit-progress-bar {\n",
       "        background: #F44336;\n",
       "    }\n",
       "</style>\n"
      ],
      "text/plain": [
       "<IPython.core.display.HTML object>"
      ]
     },
     "metadata": {},
     "output_type": "display_data"
    },
    {
     "data": {
      "text/html": [
       "\n",
       "    <div>\n",
       "      <progress value='15000' class='' max='15000' style='width:300px; height:20px; vertical-align: middle;'></progress>\n",
       "      100.00% [15000/15000 00:08<00:00 Sampling chain 0, 0 divergences]\n",
       "    </div>\n",
       "    "
      ],
      "text/plain": [
       "<IPython.core.display.HTML object>"
      ]
     },
     "metadata": {},
     "output_type": "display_data"
    },
    {
     "name": "stderr",
     "output_type": "stream",
     "text": [
      "Sampling 1 chain for 5_000 tune and 10_000 draw iterations (5_000 + 10_000 draws total) took 8 seconds.\n",
      "Only one chain was sampled, this makes it impossible to run some convergence checks\n"
     ]
    }
   ],
   "source": [
    "with pm.Model() as model:\n",
    "\n",
    "    λ = pm.Gamma(name=\"λ\", alpha=0.1, beta=0.1)\n",
    "    π = pm.Beta(name=\"π\", alpha=1, beta=1)\n",
    "    \n",
    "    clv = CustomerLifetimeValue(\n",
    "        name=\"clv\",\n",
    "        lam=λ,\n",
    "        p=π,\n",
    "        T=10,\n",
    "        T0=0,\n",
    "        observed=simulated_data,\n",
    "    )\n",
    "    \n",
    "    trace = pm.sample(draws=10000, chains=1, tune=5000)"
   ]
  },
  {
   "cell_type": "code",
   "execution_count": 6,
   "id": "94f4b2ec",
   "metadata": {},
   "outputs": [
    {
     "data": {
      "image/png": "[encoded data removed]",
      "text/plain": [
       "<Figure size 993.6x331.2 with 2 Axes>"
      ]
     },
     "metadata": {
      "needs_background": "light"
     },
     "output_type": "display_data"
    }
   ],
   "source": [
    "_ = az.plot_posterior(trace)\n",
    "plt.tight_layout()"
   ]
  },
  {
   "cell_type": "code",
   "execution_count": 7,
   "id": "e06d4286",
   "metadata": {},
   "outputs": [],
   "source": [
    "from lifetimes.utils import summary_data_from_transaction_data\n",
    "from lifetimes.datasets import load_dataset\n",
    "\n",
    "cdnow_transactions = load_dataset(\n",
    "    'CDNOW_sample.txt', \n",
    "    header=None, \n",
    "    delim_whitespace=True, \n",
    "    names=['customer_id', 'customer_index', 'date', 'quantity', 'amount'],\n",
    "    converters={'date': lambda x: pd.to_datetime(x, format=\"%Y%m%d\")}\n",
    ")\n",
    "\n",
    "\n",
    "rfm = summary_data_from_transaction_data(\n",
    "    cdnow_transactions,\n",
    "    \"customer_id\",\n",
    "    \"date\",\n",
    "    observation_period_end=pd.to_datetime(\"1997-09-30\"),\n",
    "    freq='W'\n",
    ")\n",
    "\n",
    "frequency = rfm[\"frequency\"].to_numpy()\n",
    "tx = rfm[\"recency\"].to_numpy()\n",
    "T = rfm[\"T\"].to_numpy()"
   ]
  },
  {
   "cell_type": "code",
   "execution_count": null,
   "id": "1a6cfb88",
   "metadata": {},
   "outputs": [],
   "source": []
  }
 ],
 "metadata": {
  "kernelspec": {
   "display_name": "pymc-dev-py39",
   "language": "python",
   "name": "pymc-dev-py39"
  },
  "language_info": {
   "codemirror_mode": {
    "name": "ipython",
    "version": 3
   },
   "file_extension": ".py",
   "mimetype": "text/x-python",
   "name": "python",
   "nbconvert_exporter": "python",
   "pygments_lexer": "ipython3",
   "version": "3.9.10"
  }
 },
 "nbformat": 4,
 "nbformat_minor": 5
}
